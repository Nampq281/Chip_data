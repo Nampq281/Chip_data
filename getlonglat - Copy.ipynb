{
 "cells": [
  {
   "cell_type": "markdown",
   "metadata": {},
   "source": [
    "### 0. Kết nối các thư viện, ggsheet, khai báo hàm\n",
    "***"
   ]
  },
  {
   "cell_type": "code",
   "execution_count": 1,
   "metadata": {},
   "outputs": [],
   "source": [
    "# thư viện data, tính toán\n",
    "import pandas as pd\n",
    "import numpy as np\n",
    "import re\n",
    "import math\n",
    "\n",
    "# query sql\n",
    "import pypyodbc as py\n",
    "\n",
    "# các thư viện làm việc với ggsheet\n",
    "import gspread\n",
    "from gspread_dataframe import get_as_dataframe, set_with_dataframe\n",
    "import gspread_dataframe as gd #update data vào sheet\n",
    "from oauth2client.service_account import ServiceAccountCredentials # Đọc dữ liệu từ googlesheets\n",
    "from google.oauth2 import service_account\n",
    "from df2gspread import df2gspread as d2g\n",
    "import json\n",
    "import pygsheets # cấp quyền edit\n",
    "import pymssql\n",
    "\n",
    "# thư viện ngày giờ\n",
    "import time\n",
    "import datetime as dt\n",
    "from datetime import datetime, timedelta\n",
    "from math import radians, cos, sin, sqrt, atan2\n",
    "from datetime import date\n",
    "from time import strftime\n",
    "\n",
    "import seaborn as sns\n",
    "%matplotlib inline"
   ]
  },
  {
   "cell_type": "code",
   "execution_count": 2,
   "metadata": {},
   "outputs": [
    {
     "name": "stdout",
     "output_type": "stream",
     "text": [
      "Connected to SQL server: DWH\n"
     ]
    }
   ],
   "source": [
    "db = py.connect(\"Driver={ODBC Driver 17 for SQL Server};\"\n",
    "               \"Server=;\"\n",
    "                \"Database=;\"\n",
    "                \"uid=;pwd=\")\n",
    "print('Connected to SQL server: DWH')"
   ]
  },
  {
   "cell_type": "code",
   "execution_count": 3,
   "metadata": {},
   "outputs": [],
   "source": [
    "scope = [\"https://spreadsheets.google.com/feeds\",'https://www.googleapis.com/auth/spreadsheets',\"https://www.googleapis.com/auth/drive.file\",\"https://www.googleapis.com/auth/drive\"]\n",
    "credentials = ServiceAccountCredentials.from_json_keyfile_name(r'C:\\Users\\Admin\\Desktop\\Code\\jupyter-GGsheet\\service_account.json', scope)\n",
    "client = gspread.authorize(credentials)"
   ]
  },
  {
   "cell_type": "code",
   "execution_count": 4,
   "metadata": {},
   "outputs": [],
   "source": [
    "wb_id = '1ccn3vGeiYGRr08z8z-sNkyVjL7gGF9jwKz9ibMyovX0'\n",
    "sheet = client.open_by_key(wb_id)"
   ]
  },
  {
   "cell_type": "code",
   "execution_count": 5,
   "metadata": {},
   "outputs": [],
   "source": [
    "#Function chuyển sheet thành Data Frame\n",
    "def to_dataframe(wb_name,sheet_name,data_row,col):\n",
    "    a=wb_name.worksheet(sheet_name).get_all_values()\n",
    "    return pd.DataFrame(data=a[data_row:],columns=a[col])\n",
    "\n",
    "#Funtion update data vào sheet wb_name:tên wb,target_sheet: tên sheet cần update; data:dữ liệu muốn update\n",
    "def update_data(wb_name,target_sheet,data):\n",
    "    existing =to_dataframe(wb_name,target_sheet,1,0)\n",
    "    updated = existing.append(data)\n",
    "    gd.set_with_dataframe(wb_name.worksheet(target_sheet),updated)\n",
    "\n",
    "# Function ghi đè dữ liệu lên gg sheet\n",
    "def write_data(wb_name,ws_name,ws_range,data):\n",
    "    wb_name.values_clear(ws_range) \n",
    "    sheet=wb_name.worksheet(ws_name)\n",
    "    set_with_dataframe(sheet,data)\n",
    "    print('Đã ghi dữ liệu lên sheet '+ ws_name)"
   ]
  },
  {
   "cell_type": "code",
   "execution_count": 67,
   "metadata": {},
   "outputs": [],
   "source": [
    "df = pd.read_excel(r'C:\\Users\\Admin\\Desktop\\Project_chip\\Data_ tính rule\\data.0306.xlsx',sheet_name='Sheet2')"
   ]
  },
  {
   "cell_type": "code",
   "execution_count": 68,
   "metadata": {
    "scrolled": true
   },
   "outputs": [
    {
     "data": {
      "text/plain": [
       "Index(['Imei', 'contract', 'open_time', 'last_event', 'event', 'no_signal_48h',\n",
       "       'no_signal_days', 'Nghi Tháo nguồn', '12VDC', 'FW', 'Nghi Acquy kém',\n",
       "       'DC_LOSS/PLUG gần nhất', 'DC_LOSS/PLUG trước đó',\n",
       "       'Tọa độ DC_LOSS/PLUG gần nhất', 'Tọa độ DC_LOSS/PLUG trước đó',\n",
       "       'event_data'],\n",
       "      dtype='object')"
      ]
     },
     "execution_count": 68,
     "metadata": {},
     "output_type": "execute_result"
    }
   ],
   "source": [
    "df.columns"
   ]
  },
  {
   "cell_type": "markdown",
   "metadata": {},
   "source": [
    "### 1. Lấy tọa độ, thời gian log chip\n",
    "***"
   ]
  },
  {
   "cell_type": "markdown",
   "metadata": {},
   "source": [
    "#### i. Lấy data raw tọa độ, tgian"
   ]
  },
  {
   "cell_type": "code",
   "execution_count": 69,
   "metadata": {},
   "outputs": [],
   "source": [
    "sub_df = df.loc[:,['event_data']]"
   ]
  },
  {
   "cell_type": "code",
   "execution_count": 70,
   "metadata": {},
   "outputs": [],
   "source": [
    "s = sub_df['event_data'].str.split('{').apply(pd.Series,1).stack()\n",
    "s.name = 'split_data'\n",
    "s. index = s.index.droplevel(-1)"
   ]
  },
  {
   "cell_type": "code",
   "execution_count": 71,
   "metadata": {},
   "outputs": [
    {
     "name": "stdout",
     "output_type": "stream",
     "text": [
      "'event_data': 'ACC_SLEEP', 'event_type': '4', 'time': '190521095514', 'dc': '0', 'lng': '105.98792666666667', 'timestamp': 1621418114, 'lat': '10.2302275'}, \n"
     ]
    }
   ],
   "source": [
    "print(s.iloc[1])"
   ]
  },
  {
   "cell_type": "code",
   "execution_count": 25,
   "metadata": {},
   "outputs": [],
   "source": [
    "sdf = df.join(s)"
   ]
  },
  {
   "cell_type": "code",
   "execution_count": 26,
   "metadata": {
    "scrolled": false
   },
   "outputs": [
    {
     "data": {
      "text/plain": [
       "Index(['Imei', 'contract', 'open_time', 'last_event', 'event', 'no_signal_48h',\n",
       "       'no_signal_days', 'Nghi Tháo nguồn', '12VDC', 'FW', 'Nghi Acquy kém',\n",
       "       'DC_LOSS/PLUG gần nhất', 'DC_LOSS/PLUG trước đó',\n",
       "       'Tọa độ DC_LOSS/PLUG gần nhất', 'Tọa độ DC_LOSS/PLUG trước đó',\n",
       "       'event_data', 'split_data'],\n",
       "      dtype='object')"
      ]
     },
     "execution_count": 26,
     "metadata": {},
     "output_type": "execute_result"
    }
   ],
   "source": [
    "sdf.columns"
   ]
  },
  {
   "cell_type": "markdown",
   "metadata": {},
   "source": [
    "##### Note: Để ý rules các tag dữ liệu long-lat. event ... để điều chỉnh extract bằng regex ra đúng"
   ]
  },
  {
   "cell_type": "code",
   "execution_count": 27,
   "metadata": {},
   "outputs": [],
   "source": [
    "def get_longitude(cell):\n",
    "    x = re.search('lng\\': \\'(.+?)\\',', cell)\n",
    "    if x is not None:\n",
    "        return(x.group(1))"
   ]
  },
  {
   "cell_type": "code",
   "execution_count": 72,
   "metadata": {},
   "outputs": [],
   "source": [
    "def get_latitude(cell):\n",
    "    x = re.search('lat\\': \\'(.+?)\\'}',cell)\n",
    "    if x is not None:\n",
    "        return(x.group(1))"
   ]
  },
  {
   "cell_type": "code",
   "execution_count": 29,
   "metadata": {},
   "outputs": [],
   "source": [
    "def get_time(cell):\n",
    "    x = re.search('timestamp\\':(.+?),',cell)\n",
    "    if x is not None:\n",
    "        try:\n",
    "            log_time = int(x.group(1))\n",
    "            return (datetime.utcfromtimestamp(log_time)+timedelta(hours=7)).strftime('%Y-%m-%d %H:%M:%S')\n",
    "        except:\n",
    "            return None"
   ]
  },
  {
   "cell_type": "code",
   "execution_count": 30,
   "metadata": {},
   "outputs": [],
   "source": [
    "def get_event(cell):\n",
    "    x = re.search('event_data\\': \\'(.+?)\\',',cell)\n",
    "    if x is not None:\n",
    "        return(x.group(1))  "
   ]
  },
  {
   "cell_type": "code",
   "execution_count": 73,
   "metadata": {},
   "outputs": [],
   "source": [
    "sdf['longitude'] = sdf['split_data'].apply(lambda row:get_longitude(row))"
   ]
  },
  {
   "cell_type": "code",
   "execution_count": 74,
   "metadata": {},
   "outputs": [],
   "source": [
    "sdf['latitude'] = sdf['split_data'].apply(lambda row:get_latitude(row))"
   ]
  },
  {
   "cell_type": "code",
   "execution_count": 75,
   "metadata": {
    "scrolled": true
   },
   "outputs": [],
   "source": [
    "sdf['get_time'] = sdf['split_data'].apply(lambda row:get_time(row))"
   ]
  },
  {
   "cell_type": "code",
   "execution_count": 76,
   "metadata": {},
   "outputs": [],
   "source": [
    "sdf['event_log'] = sdf['split_data'].apply(lambda row:get_event(row))"
   ]
  },
  {
   "cell_type": "code",
   "execution_count": 77,
   "metadata": {
    "scrolled": true
   },
   "outputs": [
    {
     "data": {
      "text/plain": [
       "Index(['Imei', 'contract', 'open_time', 'last_event', 'event', 'no_signal_48h',\n",
       "       'no_signal_days', 'Nghi Tháo nguồn', '12VDC', 'FW', 'Nghi Acquy kém',\n",
       "       'DC_LOSS/PLUG gần nhất', 'DC_LOSS/PLUG trước đó',\n",
       "       'Tọa độ DC_LOSS/PLUG gần nhất', 'Tọa độ DC_LOSS/PLUG trước đó',\n",
       "       'event_data', 'split_data', 'longitude', 'latitude', 'get_time',\n",
       "       'event_log'],\n",
       "      dtype='object')"
      ]
     },
     "execution_count": 77,
     "metadata": {},
     "output_type": "execute_result"
    }
   ],
   "source": [
    "sdf.columns"
   ]
  },
  {
   "cell_type": "code",
   "execution_count": 78,
   "metadata": {},
   "outputs": [
    {
     "data": {
      "text/html": [
       "<div>\n",
       "<style scoped>\n",
       "    .dataframe tbody tr th:only-of-type {\n",
       "        vertical-align: middle;\n",
       "    }\n",
       "\n",
       "    .dataframe tbody tr th {\n",
       "        vertical-align: top;\n",
       "    }\n",
       "\n",
       "    .dataframe thead th {\n",
       "        text-align: right;\n",
       "    }\n",
       "</style>\n",
       "<table border=\"1\" class=\"dataframe\">\n",
       "  <thead>\n",
       "    <tr style=\"text-align: right;\">\n",
       "      <th></th>\n",
       "      <th>Imei</th>\n",
       "      <th>contract</th>\n",
       "      <th>open_time</th>\n",
       "      <th>last_event</th>\n",
       "      <th>event</th>\n",
       "      <th>no_signal_48h</th>\n",
       "      <th>no_signal_days</th>\n",
       "      <th>Nghi Tháo nguồn</th>\n",
       "      <th>12VDC</th>\n",
       "      <th>FW</th>\n",
       "      <th>...</th>\n",
       "      <th>DC_LOSS/PLUG gần nhất</th>\n",
       "      <th>DC_LOSS/PLUG trước đó</th>\n",
       "      <th>Tọa độ DC_LOSS/PLUG gần nhất</th>\n",
       "      <th>Tọa độ DC_LOSS/PLUG trước đó</th>\n",
       "      <th>event_data</th>\n",
       "      <th>split_data</th>\n",
       "      <th>longitude</th>\n",
       "      <th>latitude</th>\n",
       "      <th>get_time</th>\n",
       "      <th>event_log</th>\n",
       "    </tr>\n",
       "  </thead>\n",
       "  <tbody>\n",
       "    <tr>\n",
       "      <th>0</th>\n",
       "      <td>A006876</td>\n",
       "      <td>1687462</td>\n",
       "      <td>2021-03-03 17:02:11</td>\n",
       "      <td>2021-05-19 16:55:24</td>\n",
       "      <td>ACC_SLEEP</td>\n",
       "      <td>1</td>\n",
       "      <td>14</td>\n",
       "      <td>0</td>\n",
       "      <td>0</td>\n",
       "      <td>3.0.1604290516</td>\n",
       "      <td>...</td>\n",
       "      <td>2021-05-19 14:17:55:DC_LOSS</td>\n",
       "      <td>2021-05-19 14:14:15:DC_PLUG</td>\n",
       "      <td>10.244295666666666,105.98059166666667</td>\n",
       "      <td>10.244295666666666,105.98059166666667</td>\n",
       "      <td>[{'event_data': 'ACC_SLEEP', 'event_type': '4'...</td>\n",
       "      <td>[</td>\n",
       "      <td>None</td>\n",
       "      <td>None</td>\n",
       "      <td>None</td>\n",
       "      <td>None</td>\n",
       "    </tr>\n",
       "    <tr>\n",
       "      <th>0</th>\n",
       "      <td>A006876</td>\n",
       "      <td>1687462</td>\n",
       "      <td>2021-03-03 17:02:11</td>\n",
       "      <td>2021-05-19 16:55:24</td>\n",
       "      <td>ACC_SLEEP</td>\n",
       "      <td>1</td>\n",
       "      <td>14</td>\n",
       "      <td>0</td>\n",
       "      <td>0</td>\n",
       "      <td>3.0.1604290516</td>\n",
       "      <td>...</td>\n",
       "      <td>2021-05-19 14:17:55:DC_LOSS</td>\n",
       "      <td>2021-05-19 14:14:15:DC_PLUG</td>\n",
       "      <td>10.244295666666666,105.98059166666667</td>\n",
       "      <td>10.244295666666666,105.98059166666667</td>\n",
       "      <td>[{'event_data': 'ACC_SLEEP', 'event_type': '4'...</td>\n",
       "      <td>'event_data': 'ACC_SLEEP', 'event_type': '4', ...</td>\n",
       "      <td>105.98792666666667</td>\n",
       "      <td>10.2302275</td>\n",
       "      <td>2021-05-19 16:55:14</td>\n",
       "      <td>ACC_SLEEP</td>\n",
       "    </tr>\n",
       "    <tr>\n",
       "      <th>0</th>\n",
       "      <td>A006876</td>\n",
       "      <td>1687462</td>\n",
       "      <td>2021-03-03 17:02:11</td>\n",
       "      <td>2021-05-19 16:55:24</td>\n",
       "      <td>ACC_SLEEP</td>\n",
       "      <td>1</td>\n",
       "      <td>14</td>\n",
       "      <td>0</td>\n",
       "      <td>0</td>\n",
       "      <td>3.0.1604290516</td>\n",
       "      <td>...</td>\n",
       "      <td>2021-05-19 14:17:55:DC_LOSS</td>\n",
       "      <td>2021-05-19 14:14:15:DC_PLUG</td>\n",
       "      <td>10.244295666666666,105.98059166666667</td>\n",
       "      <td>10.244295666666666,105.98059166666667</td>\n",
       "      <td>[{'event_data': 'ACC_SLEEP', 'event_type': '4'...</td>\n",
       "      <td>'event_data': 'ACC_WAKE', 'event_type': '3', '...</td>\n",
       "      <td>105.988015</td>\n",
       "      <td>10.2302115</td>\n",
       "      <td>2021-05-19 16:41:15</td>\n",
       "      <td>ACC_WAKE</td>\n",
       "    </tr>\n",
       "    <tr>\n",
       "      <th>0</th>\n",
       "      <td>A006876</td>\n",
       "      <td>1687462</td>\n",
       "      <td>2021-03-03 17:02:11</td>\n",
       "      <td>2021-05-19 16:55:24</td>\n",
       "      <td>ACC_SLEEP</td>\n",
       "      <td>1</td>\n",
       "      <td>14</td>\n",
       "      <td>0</td>\n",
       "      <td>0</td>\n",
       "      <td>3.0.1604290516</td>\n",
       "      <td>...</td>\n",
       "      <td>2021-05-19 14:17:55:DC_LOSS</td>\n",
       "      <td>2021-05-19 14:14:15:DC_PLUG</td>\n",
       "      <td>10.244295666666666,105.98059166666667</td>\n",
       "      <td>10.244295666666666,105.98059166666667</td>\n",
       "      <td>[{'event_data': 'ACC_SLEEP', 'event_type': '4'...</td>\n",
       "      <td>'event_data': 'ACC_SLEEP', 'event_type': '4', ...</td>\n",
       "      <td>105.988015</td>\n",
       "      <td>10.2302115</td>\n",
       "      <td>2021-05-19 16:35:55</td>\n",
       "      <td>ACC_SLEEP</td>\n",
       "    </tr>\n",
       "    <tr>\n",
       "      <th>0</th>\n",
       "      <td>A006876</td>\n",
       "      <td>1687462</td>\n",
       "      <td>2021-03-03 17:02:11</td>\n",
       "      <td>2021-05-19 16:55:24</td>\n",
       "      <td>ACC_SLEEP</td>\n",
       "      <td>1</td>\n",
       "      <td>14</td>\n",
       "      <td>0</td>\n",
       "      <td>0</td>\n",
       "      <td>3.0.1604290516</td>\n",
       "      <td>...</td>\n",
       "      <td>2021-05-19 14:17:55:DC_LOSS</td>\n",
       "      <td>2021-05-19 14:14:15:DC_PLUG</td>\n",
       "      <td>10.244295666666666,105.98059166666667</td>\n",
       "      <td>10.244295666666666,105.98059166666667</td>\n",
       "      <td>[{'event_data': 'ACC_SLEEP', 'event_type': '4'...</td>\n",
       "      <td>'event_data': 'ACC_WAKE', 'event_type': '3', '...</td>\n",
       "      <td>105.98776166666667</td>\n",
       "      <td>10.229982666666666</td>\n",
       "      <td>2021-05-19 16:25:55</td>\n",
       "      <td>ACC_WAKE</td>\n",
       "    </tr>\n",
       "    <tr>\n",
       "      <th>...</th>\n",
       "      <td>...</td>\n",
       "      <td>...</td>\n",
       "      <td>...</td>\n",
       "      <td>...</td>\n",
       "      <td>...</td>\n",
       "      <td>...</td>\n",
       "      <td>...</td>\n",
       "      <td>...</td>\n",
       "      <td>...</td>\n",
       "      <td>...</td>\n",
       "      <td>...</td>\n",
       "      <td>...</td>\n",
       "      <td>...</td>\n",
       "      <td>...</td>\n",
       "      <td>...</td>\n",
       "      <td>...</td>\n",
       "      <td>...</td>\n",
       "      <td>...</td>\n",
       "      <td>...</td>\n",
       "      <td>...</td>\n",
       "      <td>...</td>\n",
       "    </tr>\n",
       "    <tr>\n",
       "      <th>9573</th>\n",
       "      <td>A000606</td>\n",
       "      <td>1747613</td>\n",
       "      <td>2021-04-22 16:12:14</td>\n",
       "      <td>2021-06-03 01:45:21</td>\n",
       "      <td>RTC_WAKE</td>\n",
       "      <td>0</td>\n",
       "      <td>0</td>\n",
       "      <td>0</td>\n",
       "      <td>0</td>\n",
       "      <td>3.0.0</td>\n",
       "      <td>...</td>\n",
       "      <td>NaN</td>\n",
       "      <td>NaN</td>\n",
       "      <td>NaN</td>\n",
       "      <td>NaN</td>\n",
       "      <td>[{'event_data': 'RTC_WAKE', 'event_type': '5',...</td>\n",
       "      <td>'event_data': 'ACC_WAKE', 'event_type': '3', '...</td>\n",
       "      <td>106.70105</td>\n",
       "      <td>10.734372166666667</td>\n",
       "      <td>2021-05-28 17:54:16</td>\n",
       "      <td>ACC_WAKE</td>\n",
       "    </tr>\n",
       "    <tr>\n",
       "      <th>9573</th>\n",
       "      <td>A000606</td>\n",
       "      <td>1747613</td>\n",
       "      <td>2021-04-22 16:12:14</td>\n",
       "      <td>2021-06-03 01:45:21</td>\n",
       "      <td>RTC_WAKE</td>\n",
       "      <td>0</td>\n",
       "      <td>0</td>\n",
       "      <td>0</td>\n",
       "      <td>0</td>\n",
       "      <td>3.0.0</td>\n",
       "      <td>...</td>\n",
       "      <td>NaN</td>\n",
       "      <td>NaN</td>\n",
       "      <td>NaN</td>\n",
       "      <td>NaN</td>\n",
       "      <td>[{'event_data': 'RTC_WAKE', 'event_type': '5',...</td>\n",
       "      <td>'event_data': 'ACC_SLEEP', 'event_type': '4', ...</td>\n",
       "      <td>106.70105</td>\n",
       "      <td>10.734372166666667</td>\n",
       "      <td>2021-05-28 17:04:16</td>\n",
       "      <td>ACC_SLEEP</td>\n",
       "    </tr>\n",
       "    <tr>\n",
       "      <th>9573</th>\n",
       "      <td>A000606</td>\n",
       "      <td>1747613</td>\n",
       "      <td>2021-04-22 16:12:14</td>\n",
       "      <td>2021-06-03 01:45:21</td>\n",
       "      <td>RTC_WAKE</td>\n",
       "      <td>0</td>\n",
       "      <td>0</td>\n",
       "      <td>0</td>\n",
       "      <td>0</td>\n",
       "      <td>3.0.0</td>\n",
       "      <td>...</td>\n",
       "      <td>NaN</td>\n",
       "      <td>NaN</td>\n",
       "      <td>NaN</td>\n",
       "      <td>NaN</td>\n",
       "      <td>[{'event_data': 'RTC_WAKE', 'event_type': '5',...</td>\n",
       "      <td>'event_data': 'ACC_WAKE', 'event_type': '3', '...</td>\n",
       "      <td>106.701305</td>\n",
       "      <td>10.734043166666666</td>\n",
       "      <td>2021-05-28 16:53:28</td>\n",
       "      <td>ACC_WAKE</td>\n",
       "    </tr>\n",
       "    <tr>\n",
       "      <th>9573</th>\n",
       "      <td>A000606</td>\n",
       "      <td>1747613</td>\n",
       "      <td>2021-04-22 16:12:14</td>\n",
       "      <td>2021-06-03 01:45:21</td>\n",
       "      <td>RTC_WAKE</td>\n",
       "      <td>0</td>\n",
       "      <td>0</td>\n",
       "      <td>0</td>\n",
       "      <td>0</td>\n",
       "      <td>3.0.0</td>\n",
       "      <td>...</td>\n",
       "      <td>NaN</td>\n",
       "      <td>NaN</td>\n",
       "      <td>NaN</td>\n",
       "      <td>NaN</td>\n",
       "      <td>[{'event_data': 'RTC_WAKE', 'event_type': '5',...</td>\n",
       "      <td>'event_data': 'RTC_WAKE', 'event_type': '5', '...</td>\n",
       "      <td>106.701305</td>\n",
       "      <td>10.734043166666666</td>\n",
       "      <td>2021-05-28 16:34:28</td>\n",
       "      <td>RTC_WAKE</td>\n",
       "    </tr>\n",
       "    <tr>\n",
       "      <th>9573</th>\n",
       "      <td>A000606</td>\n",
       "      <td>1747613</td>\n",
       "      <td>2021-04-22 16:12:14</td>\n",
       "      <td>2021-06-03 01:45:21</td>\n",
       "      <td>RTC_WAKE</td>\n",
       "      <td>0</td>\n",
       "      <td>0</td>\n",
       "      <td>0</td>\n",
       "      <td>0</td>\n",
       "      <td>3.0.0</td>\n",
       "      <td>...</td>\n",
       "      <td>NaN</td>\n",
       "      <td>NaN</td>\n",
       "      <td>NaN</td>\n",
       "      <td>NaN</td>\n",
       "      <td>[{'event_data': 'RTC_WAKE', 'event_type': '5',...</td>\n",
       "      <td>'event_data': 'RTC_WAKE', 'event_type': '5', '...</td>\n",
       "      <td>106.701305</td>\n",
       "      <td>10.734043166666666</td>\n",
       "      <td>2021-05-28 14:34:28</td>\n",
       "      <td>RTC_WAKE</td>\n",
       "    </tr>\n",
       "  </tbody>\n",
       "</table>\n",
       "<p>826122 rows × 21 columns</p>\n",
       "</div>"
      ],
      "text/plain": [
       "         Imei contract            open_time           last_event      event  \\\n",
       "0     A006876  1687462  2021-03-03 17:02:11  2021-05-19 16:55:24  ACC_SLEEP   \n",
       "0     A006876  1687462  2021-03-03 17:02:11  2021-05-19 16:55:24  ACC_SLEEP   \n",
       "0     A006876  1687462  2021-03-03 17:02:11  2021-05-19 16:55:24  ACC_SLEEP   \n",
       "0     A006876  1687462  2021-03-03 17:02:11  2021-05-19 16:55:24  ACC_SLEEP   \n",
       "0     A006876  1687462  2021-03-03 17:02:11  2021-05-19 16:55:24  ACC_SLEEP   \n",
       "...       ...      ...                  ...                  ...        ...   \n",
       "9573  A000606  1747613  2021-04-22 16:12:14  2021-06-03 01:45:21   RTC_WAKE   \n",
       "9573  A000606  1747613  2021-04-22 16:12:14  2021-06-03 01:45:21   RTC_WAKE   \n",
       "9573  A000606  1747613  2021-04-22 16:12:14  2021-06-03 01:45:21   RTC_WAKE   \n",
       "9573  A000606  1747613  2021-04-22 16:12:14  2021-06-03 01:45:21   RTC_WAKE   \n",
       "9573  A000606  1747613  2021-04-22 16:12:14  2021-06-03 01:45:21   RTC_WAKE   \n",
       "\n",
       "      no_signal_48h  no_signal_days  Nghi Tháo nguồn 12VDC              FW  \\\n",
       "0                 1              14                0     0  3.0.1604290516   \n",
       "0                 1              14                0     0  3.0.1604290516   \n",
       "0                 1              14                0     0  3.0.1604290516   \n",
       "0                 1              14                0     0  3.0.1604290516   \n",
       "0                 1              14                0     0  3.0.1604290516   \n",
       "...             ...             ...              ...   ...             ...   \n",
       "9573              0               0                0     0           3.0.0   \n",
       "9573              0               0                0     0           3.0.0   \n",
       "9573              0               0                0     0           3.0.0   \n",
       "9573              0               0                0     0           3.0.0   \n",
       "9573              0               0                0     0           3.0.0   \n",
       "\n",
       "      ...        DC_LOSS/PLUG gần nhất        DC_LOSS/PLUG trước đó  \\\n",
       "0     ...  2021-05-19 14:17:55:DC_LOSS  2021-05-19 14:14:15:DC_PLUG   \n",
       "0     ...  2021-05-19 14:17:55:DC_LOSS  2021-05-19 14:14:15:DC_PLUG   \n",
       "0     ...  2021-05-19 14:17:55:DC_LOSS  2021-05-19 14:14:15:DC_PLUG   \n",
       "0     ...  2021-05-19 14:17:55:DC_LOSS  2021-05-19 14:14:15:DC_PLUG   \n",
       "0     ...  2021-05-19 14:17:55:DC_LOSS  2021-05-19 14:14:15:DC_PLUG   \n",
       "...   ...                          ...                          ...   \n",
       "9573  ...                          NaN                          NaN   \n",
       "9573  ...                          NaN                          NaN   \n",
       "9573  ...                          NaN                          NaN   \n",
       "9573  ...                          NaN                          NaN   \n",
       "9573  ...                          NaN                          NaN   \n",
       "\n",
       "               Tọa độ DC_LOSS/PLUG gần nhất  \\\n",
       "0     10.244295666666666,105.98059166666667   \n",
       "0     10.244295666666666,105.98059166666667   \n",
       "0     10.244295666666666,105.98059166666667   \n",
       "0     10.244295666666666,105.98059166666667   \n",
       "0     10.244295666666666,105.98059166666667   \n",
       "...                                     ...   \n",
       "9573                                    NaN   \n",
       "9573                                    NaN   \n",
       "9573                                    NaN   \n",
       "9573                                    NaN   \n",
       "9573                                    NaN   \n",
       "\n",
       "               Tọa độ DC_LOSS/PLUG trước đó  \\\n",
       "0     10.244295666666666,105.98059166666667   \n",
       "0     10.244295666666666,105.98059166666667   \n",
       "0     10.244295666666666,105.98059166666667   \n",
       "0     10.244295666666666,105.98059166666667   \n",
       "0     10.244295666666666,105.98059166666667   \n",
       "...                                     ...   \n",
       "9573                                    NaN   \n",
       "9573                                    NaN   \n",
       "9573                                    NaN   \n",
       "9573                                    NaN   \n",
       "9573                                    NaN   \n",
       "\n",
       "                                             event_data  \\\n",
       "0     [{'event_data': 'ACC_SLEEP', 'event_type': '4'...   \n",
       "0     [{'event_data': 'ACC_SLEEP', 'event_type': '4'...   \n",
       "0     [{'event_data': 'ACC_SLEEP', 'event_type': '4'...   \n",
       "0     [{'event_data': 'ACC_SLEEP', 'event_type': '4'...   \n",
       "0     [{'event_data': 'ACC_SLEEP', 'event_type': '4'...   \n",
       "...                                                 ...   \n",
       "9573  [{'event_data': 'RTC_WAKE', 'event_type': '5',...   \n",
       "9573  [{'event_data': 'RTC_WAKE', 'event_type': '5',...   \n",
       "9573  [{'event_data': 'RTC_WAKE', 'event_type': '5',...   \n",
       "9573  [{'event_data': 'RTC_WAKE', 'event_type': '5',...   \n",
       "9573  [{'event_data': 'RTC_WAKE', 'event_type': '5',...   \n",
       "\n",
       "                                             split_data           longitude  \\\n",
       "0                                                     [                None   \n",
       "0     'event_data': 'ACC_SLEEP', 'event_type': '4', ...  105.98792666666667   \n",
       "0     'event_data': 'ACC_WAKE', 'event_type': '3', '...          105.988015   \n",
       "0     'event_data': 'ACC_SLEEP', 'event_type': '4', ...          105.988015   \n",
       "0     'event_data': 'ACC_WAKE', 'event_type': '3', '...  105.98776166666667   \n",
       "...                                                 ...                 ...   \n",
       "9573  'event_data': 'ACC_WAKE', 'event_type': '3', '...           106.70105   \n",
       "9573  'event_data': 'ACC_SLEEP', 'event_type': '4', ...           106.70105   \n",
       "9573  'event_data': 'ACC_WAKE', 'event_type': '3', '...          106.701305   \n",
       "9573  'event_data': 'RTC_WAKE', 'event_type': '5', '...          106.701305   \n",
       "9573  'event_data': 'RTC_WAKE', 'event_type': '5', '...          106.701305   \n",
       "\n",
       "                latitude             get_time  event_log  \n",
       "0                   None                 None       None  \n",
       "0             10.2302275  2021-05-19 16:55:14  ACC_SLEEP  \n",
       "0             10.2302115  2021-05-19 16:41:15   ACC_WAKE  \n",
       "0             10.2302115  2021-05-19 16:35:55  ACC_SLEEP  \n",
       "0     10.229982666666666  2021-05-19 16:25:55   ACC_WAKE  \n",
       "...                  ...                  ...        ...  \n",
       "9573  10.734372166666667  2021-05-28 17:54:16   ACC_WAKE  \n",
       "9573  10.734372166666667  2021-05-28 17:04:16  ACC_SLEEP  \n",
       "9573  10.734043166666666  2021-05-28 16:53:28   ACC_WAKE  \n",
       "9573  10.734043166666666  2021-05-28 16:34:28   RTC_WAKE  \n",
       "9573  10.734043166666666  2021-05-28 14:34:28   RTC_WAKE  \n",
       "\n",
       "[826122 rows x 21 columns]"
      ]
     },
     "execution_count": 78,
     "metadata": {},
     "output_type": "execute_result"
    }
   ],
   "source": [
    "sdf"
   ]
  },
  {
   "cell_type": "markdown",
   "metadata": {},
   "source": [
    "#### ii. Clean dữ liệu"
   ]
  },
  {
   "cell_type": "code",
   "execution_count": 79,
   "metadata": {},
   "outputs": [],
   "source": [
    "coord_chip = sdf[['Imei','contract','open_time','event_log','longitude','latitude','get_time']]"
   ]
  },
  {
   "cell_type": "code",
   "execution_count": 80,
   "metadata": {},
   "outputs": [
    {
     "data": {
      "text/plain": [
       "Index(['Imei', 'contract', 'open_time', 'event_log', 'longitude', 'latitude',\n",
       "       'get_time'],\n",
       "      dtype='object')"
      ]
     },
     "execution_count": 80,
     "metadata": {},
     "output_type": "execute_result"
    }
   ],
   "source": [
    "coord_chip.columns"
   ]
  },
  {
   "cell_type": "code",
   "execution_count": 81,
   "metadata": {},
   "outputs": [],
   "source": [
    "coord_chip.reset_index(drop=True, inplace=True)"
   ]
  },
  {
   "cell_type": "code",
   "execution_count": 82,
   "metadata": {},
   "outputs": [
    {
     "name": "stderr",
     "output_type": "stream",
     "text": [
      "C:\\ProgramData\\Anaconda3\\lib\\site-packages\\pandas\\core\\frame.py:4441: SettingWithCopyWarning: \n",
      "A value is trying to be set on a copy of a slice from a DataFrame\n",
      "\n",
      "See the caveats in the documentation: https://pandas.pydata.org/pandas-docs/stable/user_guide/indexing.html#returning-a-view-versus-a-copy\n",
      "  return super().rename(\n"
     ]
    }
   ],
   "source": [
    "coord_chip.rename(columns = {'contract':'pawnid'}, inplace=True)"
   ]
  },
  {
   "cell_type": "code",
   "execution_count": 83,
   "metadata": {},
   "outputs": [],
   "source": [
    "data_chip = coord_chip.dropna(subset=['pawnid'])"
   ]
  },
  {
   "cell_type": "code",
   "execution_count": 84,
   "metadata": {},
   "outputs": [
    {
     "data": {
      "text/plain": [
       "Index(['Imei', 'pawnid', 'open_time', 'event_log', 'longitude', 'latitude',\n",
       "       'get_time'],\n",
       "      dtype='object')"
      ]
     },
     "execution_count": 84,
     "metadata": {},
     "output_type": "execute_result"
    }
   ],
   "source": [
    "data_chip.columns"
   ]
  },
  {
   "cell_type": "code",
   "execution_count": 85,
   "metadata": {},
   "outputs": [
    {
     "name": "stderr",
     "output_type": "stream",
     "text": [
      "<ipython-input-85-4c92ad4d3e6a>:1: SettingWithCopyWarning: \n",
      "A value is trying to be set on a copy of a slice from a DataFrame.\n",
      "Try using .loc[row_indexer,col_indexer] = value instead\n",
      "\n",
      "See the caveats in the documentation: https://pandas.pydata.org/pandas-docs/stable/user_guide/indexing.html#returning-a-view-versus-a-copy\n",
      "  data_chip['len_pid'] = data_chip['pawnid'].apply(len)\n"
     ]
    }
   ],
   "source": [
    "data_chip['len_pid'] = data_chip['pawnid'].apply(len)"
   ]
  },
  {
   "cell_type": "code",
   "execution_count": 86,
   "metadata": {},
   "outputs": [
    {
     "data": {
      "text/plain": [
       "array([ 7, 19, 17, 18], dtype=int64)"
      ]
     },
     "execution_count": 86,
     "metadata": {},
     "output_type": "execute_result"
    }
   ],
   "source": [
    "data_chip['len_pid'].unique()"
   ]
  },
  {
   "cell_type": "code",
   "execution_count": 87,
   "metadata": {},
   "outputs": [],
   "source": [
    "data_chip_clean = data_chip[data_chip['len_pid'] ==7]"
   ]
  },
  {
   "cell_type": "code",
   "execution_count": 88,
   "metadata": {},
   "outputs": [
    {
     "name": "stderr",
     "output_type": "stream",
     "text": [
      "C:\\ProgramData\\Anaconda3\\lib\\site-packages\\pandas\\core\\frame.py:4308: SettingWithCopyWarning: \n",
      "A value is trying to be set on a copy of a slice from a DataFrame\n",
      "\n",
      "See the caveats in the documentation: https://pandas.pydata.org/pandas-docs/stable/user_guide/indexing.html#returning-a-view-versus-a-copy\n",
      "  return super().drop(\n"
     ]
    }
   ],
   "source": [
    "data_chip_clean.drop(columns='len_pid',inplace=True)"
   ]
  },
  {
   "cell_type": "code",
   "execution_count": 89,
   "metadata": {},
   "outputs": [],
   "source": [
    "df2=data_chip_clean"
   ]
  },
  {
   "cell_type": "code",
   "execution_count": 90,
   "metadata": {},
   "outputs": [],
   "source": [
    "df2 = df2.drop(df2[df2.get_time == None].index)"
   ]
  },
  {
   "cell_type": "code",
   "execution_count": 91,
   "metadata": {},
   "outputs": [],
   "source": [
    "df2.reset_index(drop=True, inplace=True)"
   ]
  },
  {
   "cell_type": "code",
   "execution_count": 92,
   "metadata": {},
   "outputs": [
    {
     "data": {
      "text/plain": [
       "Index(['Imei', 'pawnid', 'open_time', 'event_log', 'longitude', 'latitude',\n",
       "       'get_time'],\n",
       "      dtype='object')"
      ]
     },
     "execution_count": 92,
     "metadata": {},
     "output_type": "execute_result"
    }
   ],
   "source": [
    "df2.columns"
   ]
  },
  {
   "cell_type": "code",
   "execution_count": 93,
   "metadata": {},
   "outputs": [],
   "source": [
    "df3 = df2.dropna(subset=['get_time','longitude','latitude'])"
   ]
  },
  {
   "cell_type": "code",
   "execution_count": 94,
   "metadata": {},
   "outputs": [],
   "source": [
    "df3.reset_index(drop=True, inplace=True)"
   ]
  },
  {
   "cell_type": "code",
   "execution_count": 95,
   "metadata": {},
   "outputs": [
    {
     "name": "stderr",
     "output_type": "stream",
     "text": [
      "<ipython-input-95-447850962fda>:1: SettingWithCopyWarning: \n",
      "A value is trying to be set on a copy of a slice from a DataFrame.\n",
      "Try using .loc[row_indexer,col_indexer] = value instead\n",
      "\n",
      "See the caveats in the documentation: https://pandas.pydata.org/pandas-docs/stable/user_guide/indexing.html#returning-a-view-versus-a-copy\n",
      "  df3['pawnid'] = pd.to_numeric(df3['pawnid'])\n",
      "<ipython-input-95-447850962fda>:2: SettingWithCopyWarning: \n",
      "A value is trying to be set on a copy of a slice from a DataFrame.\n",
      "Try using .loc[row_indexer,col_indexer] = value instead\n",
      "\n",
      "See the caveats in the documentation: https://pandas.pydata.org/pandas-docs/stable/user_guide/indexing.html#returning-a-view-versus-a-copy\n",
      "  df3['longitude'] = pd.to_numeric(df3['longitude'])\n",
      "<ipython-input-95-447850962fda>:3: SettingWithCopyWarning: \n",
      "A value is trying to be set on a copy of a slice from a DataFrame.\n",
      "Try using .loc[row_indexer,col_indexer] = value instead\n",
      "\n",
      "See the caveats in the documentation: https://pandas.pydata.org/pandas-docs/stable/user_guide/indexing.html#returning-a-view-versus-a-copy\n",
      "  df3['latitude'] = pd.to_numeric(df3['latitude'])\n"
     ]
    }
   ],
   "source": [
    "df3['pawnid'] = pd.to_numeric(df3['pawnid'])\n",
    "df3['longitude'] = pd.to_numeric(df3['longitude'])\n",
    "df3['latitude'] = pd.to_numeric(df3['latitude'])"
   ]
  },
  {
   "cell_type": "code",
   "execution_count": 96,
   "metadata": {},
   "outputs": [
    {
     "data": {
      "text/plain": [
       "Index(['Imei', 'pawnid', 'open_time', 'event_log', 'longitude', 'latitude',\n",
       "       'get_time'],\n",
       "      dtype='object')"
      ]
     },
     "execution_count": 96,
     "metadata": {},
     "output_type": "execute_result"
    }
   ],
   "source": [
    "df3.columns"
   ]
  },
  {
   "cell_type": "code",
   "execution_count": 97,
   "metadata": {
    "scrolled": true
   },
   "outputs": [
    {
     "data": {
      "text/plain": [
       "Imei         0\n",
       "pawnid       0\n",
       "open_time    0\n",
       "event_log    0\n",
       "longitude    0\n",
       "latitude     0\n",
       "get_time     0\n",
       "dtype: int64"
      ]
     },
     "execution_count": 97,
     "metadata": {},
     "output_type": "execute_result"
    }
   ],
   "source": [
    "df3.isna().sum()"
   ]
  },
  {
   "cell_type": "code",
   "execution_count": null,
   "metadata": {},
   "outputs": [],
   "source": []
  },
  {
   "cell_type": "code",
   "execution_count": null,
   "metadata": {},
   "outputs": [],
   "source": []
  },
  {
   "cell_type": "code",
   "execution_count": null,
   "metadata": {},
   "outputs": [],
   "source": []
  },
  {
   "cell_type": "code",
   "execution_count": null,
   "metadata": {},
   "outputs": [],
   "source": []
  },
  {
   "cell_type": "markdown",
   "metadata": {},
   "source": [
    "##### TEST Lấy rule relocate"
   ]
  },
  {
   "cell_type": "code",
   "execution_count": null,
   "metadata": {},
   "outputs": [],
   "source": [
    "df_re = df3[['longitude','latitude']].astype(str).apply(' '.join, axis=1)\n",
    "df_re.name = 'longlat'"
   ]
  },
  {
   "cell_type": "code",
   "execution_count": null,
   "metadata": {},
   "outputs": [],
   "source": [
    "df_relocate = df3.join(df_re)"
   ]
  },
  {
   "cell_type": "code",
   "execution_count": null,
   "metadata": {},
   "outputs": [],
   "source": [
    "# tách riêng ngày - giờ \n",
    "split_time = df_relocate['get_time'].str.split(\" \", n=1, expand=True)\n",
    "split_time.columns = ['date_ym_log','time_log']\n",
    "df_relocate = pd.concat([df_relocate,split_time], axis=1)"
   ]
  },
  {
   "cell_type": "code",
   "execution_count": null,
   "metadata": {},
   "outputs": [],
   "source": [
    "df_relocate.reset_index(inplace = True)"
   ]
  },
  {
   "cell_type": "code",
   "execution_count": null,
   "metadata": {},
   "outputs": [],
   "source": [
    "#df_relocate2 = df_relocate[df_relocate['row_id'] == 1]"
   ]
  },
  {
   "cell_type": "code",
   "execution_count": null,
   "metadata": {},
   "outputs": [],
   "source": [
    "data_relocate = pd.merge(df_relocate, data_customer2,on='pawnid', how='left')"
   ]
  },
  {
   "cell_type": "code",
   "execution_count": null,
   "metadata": {},
   "outputs": [],
   "source": [
    "data_relocate.columns"
   ]
  },
  {
   "cell_type": "code",
   "execution_count": null,
   "metadata": {},
   "outputs": [],
   "source": [
    "data_relo2 = data_relocate.dropna(subset=['latitude_cus'])"
   ]
  },
  {
   "cell_type": "code",
   "execution_count": null,
   "metadata": {},
   "outputs": [],
   "source": [
    "ad_data = data_relo2['time_log'].str.split(':', n=2, expand = True)\n",
    "ad_data.columns = ['hour','minute','second']\n",
    "data_relo2 = pd.concat([data_relo2,ad_data], axis = 1)"
   ]
  },
  {
   "cell_type": "code",
   "execution_count": null,
   "metadata": {},
   "outputs": [],
   "source": [
    "def get_hour_point(row):\n",
    "    if int(row) < 30:\n",
    "        return 0\n",
    "    elif int(row) >= 30:\n",
    "        return 0.5"
   ]
  },
  {
   "cell_type": "code",
   "execution_count": null,
   "metadata": {},
   "outputs": [],
   "source": [
    "data_relo2['get_time_hour'] = data_relo2['hour'].apply(int) + data_relo2['minute'].apply(lambda row: get_hour_point(row))"
   ]
  },
  {
   "cell_type": "code",
   "execution_count": null,
   "metadata": {},
   "outputs": [],
   "source": [
    "data_relo2['date_hour_group'] = data_relo2['date_ym_log']\n",
    "data_relo2 = data_relo2.sort_values(by=['pawnid','date_ym_log','time_log'])"
   ]
  },
  {
   "cell_type": "code",
   "execution_count": null,
   "metadata": {},
   "outputs": [],
   "source": [
    "data_relo2.columns"
   ]
  },
  {
   "cell_type": "code",
   "execution_count": null,
   "metadata": {},
   "outputs": [],
   "source": [
    "fn = lambda x: radians(x)"
   ]
  },
  {
   "cell_type": "code",
   "execution_count": null,
   "metadata": {},
   "outputs": [],
   "source": [
    "data_relo2['long_rad'] = data_relo2['longitude'].apply(fn)\n",
    "data_relo2['lat_rad'] = data_relo2['latitude'].apply(fn)\n",
    "\n",
    "data_relo2['long_rad_cs'] = data_relo2['longitude_cus'].apply(fn)\n",
    "data_relo2['lat_rad_cs'] = data_relo2['latitude_cus'].apply(fn)"
   ]
  },
  {
   "cell_type": "code",
   "execution_count": null,
   "metadata": {},
   "outputs": [],
   "source": [
    "def get_distance(lat_cus,long_cus,lat_chip,long_chip):\n",
    "    R = 6373.0\n",
    "    dlon = long_chip - long_cus\n",
    "    dlat = lat_chip - lat_cus\n",
    "\n",
    "    a = sin(dlat / 2)**2 + cos(lat_cus) * cos(lat_chip) * sin(dlon / 2)**2\n",
    "    c = 2 * atan2(sqrt(a), sqrt(1 - a))\n",
    "\n",
    "    distance = R * c\n",
    "    return distance"
   ]
  },
  {
   "cell_type": "code",
   "execution_count": null,
   "metadata": {},
   "outputs": [],
   "source": [
    "# define a function for the new column\n",
    "fn = lambda row:get_distance(row.lat_rad_cs,row.long_rad_cs,row.lat_rad,row.long_rad)"
   ]
  },
  {
   "cell_type": "code",
   "execution_count": null,
   "metadata": {},
   "outputs": [],
   "source": [
    "# get column data with an index\n",
    "col = data_relo2.apply(fn,axis=1)"
   ]
  },
  {
   "cell_type": "code",
   "execution_count": null,
   "metadata": {},
   "outputs": [],
   "source": [
    "# assign values to column 'distance_km'\n",
    "data_relo3 = data_relo2.assign(distance_km = col.values)"
   ]
  },
  {
   "cell_type": "code",
   "execution_count": null,
   "metadata": {},
   "outputs": [],
   "source": [
    "data_relo4  = pd.DataFrame(data_relo3[['pawnid','Imei','shop_name','province','distance_km','get_time_hour','date_ym_log','longlat']])"
   ]
  },
  {
   "cell_type": "code",
   "execution_count": null,
   "metadata": {},
   "outputs": [],
   "source": [
    "data_relo4['date-hour'] = data_relo4['date_ym_log'] + '-' + data_relo4['get_time_hour'].apply(str)"
   ]
  },
  {
   "cell_type": "code",
   "execution_count": null,
   "metadata": {},
   "outputs": [],
   "source": [
    "# Chỉ lấy 1 dòng log-event theo ngày giờ\n",
    "data_relo4 = data_relo4.sort_values(by=['pawnid', 'date-hour'], ascending = True)\n",
    "data_relo4['row_id'] = data_relo4.groupby(['pawnid','date-hour']).cumcount()+1"
   ]
  },
  {
   "cell_type": "code",
   "execution_count": null,
   "metadata": {},
   "outputs": [],
   "source": [
    "data_relo5 = data_relo4[data_relo4['row_id'] == 1]"
   ]
  },
  {
   "cell_type": "code",
   "execution_count": null,
   "metadata": {},
   "outputs": [],
   "source": [
    "data_relo5.reset_index(drop=True, inplace=True)"
   ]
  },
  {
   "cell_type": "code",
   "execution_count": null,
   "metadata": {},
   "outputs": [],
   "source": [
    "data_relo5.columns"
   ]
  },
  {
   "cell_type": "code",
   "execution_count": null,
   "metadata": {},
   "outputs": [],
   "source": [
    "data_relo5 = data_relo5.sort_values(by=['pawnid','date_ym_log','get_time_hour'], ascending=True)"
   ]
  },
  {
   "cell_type": "code",
   "execution_count": null,
   "metadata": {},
   "outputs": [],
   "source": [
    "data_relo5.reset_index(drop = True,inplace=True)"
   ]
  },
  {
   "cell_type": "code",
   "execution_count": null,
   "metadata": {},
   "outputs": [],
   "source": [
    "#Lấy các khoảng giao giữa ngày\n",
    "a = data_relo5['date_ym_log'].apply(lambda x: dt.datetime.strptime(x, '%Y-%m-%d'))\n",
    "b = a.diff().apply(lambda x: x.days)\n",
    "b.name = 'date_diff'"
   ]
  },
  {
   "cell_type": "code",
   "execution_count": null,
   "metadata": {},
   "outputs": [],
   "source": [
    "#Đo khoảng thời gian giữa các lần log định vị\n",
    "c = data_relo5.groupby('pawnid')['get_time_hour'].apply(lambda x: x.diff())\n",
    "c. name = 'hour_diff'"
   ]
  },
  {
   "cell_type": "code",
   "execution_count": null,
   "metadata": {},
   "outputs": [],
   "source": [
    "#So sánh long-lat giữa 2 thời điểm\n",
    "d = data_relo5['longlat'] == data_relo5['longlat'].shift()\n",
    "d.name = 'longlat_diff'"
   ]
  },
  {
   "cell_type": "code",
   "execution_count": null,
   "metadata": {},
   "outputs": [],
   "source": [
    "data_relo5 = pd.concat([data_relo5,b,c,d], axis=1)"
   ]
  },
  {
   "cell_type": "code",
   "execution_count": null,
   "metadata": {},
   "outputs": [],
   "source": [
    "def get_duration(row):\n",
    "    if (row['date_diff'] == 0) and (row['longlat_diff'] == True) and (row['hour_diff'] <=2):\n",
    "        return row['hour_diff']\n",
    "    elif (row['date_diff']  == 1) and (row['longlat_diff'] == True) and ((row['hour_diff']+24) <= 2):\n",
    "        return row['hour_diff']+24\n",
    "    else:\n",
    "        return 0"
   ]
  },
  {
   "cell_type": "code",
   "execution_count": null,
   "metadata": {
    "scrolled": true
   },
   "outputs": [],
   "source": [
    "f = data_relo5.apply(lambda row: get_duration(row), axis=1)\n",
    "f.name = 'duration'"
   ]
  },
  {
   "cell_type": "code",
   "execution_count": null,
   "metadata": {},
   "outputs": [],
   "source": [
    "data_relo5 = data_relo5.join(f)"
   ]
  },
  {
   "cell_type": "code",
   "execution_count": null,
   "metadata": {},
   "outputs": [],
   "source": [
    "data_relo5.columns"
   ]
  },
  {
   "cell_type": "code",
   "execution_count": null,
   "metadata": {},
   "outputs": [],
   "source": [
    "data_relo6 = data_relo5[['pawnid','Imei','longlat','date_ym_log','get_time_hour','duration','distance_km']]"
   ]
  },
  {
   "cell_type": "code",
   "execution_count": null,
   "metadata": {},
   "outputs": [],
   "source": [
    "data_relo6.to_csv(r'C:\\Users\\Admin\\Desktop\\Project_chip\\Data_ tính rule\\test2.csv')"
   ]
  },
  {
   "cell_type": "code",
   "execution_count": null,
   "metadata": {},
   "outputs": [],
   "source": [
    "data_relo7 = pd.read_csv(r'C:\\Users\\Admin\\Desktop\\Project_chip\\Data_ tính rule\\test2.csv')"
   ]
  },
  {
   "cell_type": "code",
   "execution_count": null,
   "metadata": {},
   "outputs": [],
   "source": [
    "data_relo7"
   ]
  },
  {
   "cell_type": "code",
   "execution_count": null,
   "metadata": {},
   "outputs": [],
   "source": [
    "data_relo8 = data_relo7.groupby(['pawnid','Imei','distance_km','longlat'])['cum_dur'].max()"
   ]
  },
  {
   "cell_type": "code",
   "execution_count": null,
   "metadata": {},
   "outputs": [],
   "source": [
    "data_relo8 = pd.DataFrame(data_relo8)"
   ]
  },
  {
   "cell_type": "code",
   "execution_count": null,
   "metadata": {},
   "outputs": [],
   "source": [
    "data_relo8 = data_relo8.sort_values(by=['pawnid','cum_dur'], ascending=False)\n",
    "data_relo8['row_id'] = data_relo8.groupby(['pawnid']).cumcount()+1"
   ]
  },
  {
   "cell_type": "code",
   "execution_count": null,
   "metadata": {},
   "outputs": [],
   "source": [
    "data_relo9 = data_relo8[data_relo8['row_id'] <=10 ]"
   ]
  },
  {
   "cell_type": "code",
   "execution_count": null,
   "metadata": {},
   "outputs": [],
   "source": [
    "data_relo9.to_excel(r'C:\\Users\\Admin\\Desktop\\Project_chip\\Data_ tính rule\\test3.xlsx')"
   ]
  },
  {
   "cell_type": "code",
   "execution_count": null,
   "metadata": {},
   "outputs": [],
   "source": [
    "data_relo9"
   ]
  },
  {
   "cell_type": "code",
   "execution_count": null,
   "metadata": {},
   "outputs": [],
   "source": []
  },
  {
   "cell_type": "code",
   "execution_count": null,
   "metadata": {},
   "outputs": [],
   "source": []
  },
  {
   "cell_type": "code",
   "execution_count": null,
   "metadata": {},
   "outputs": [],
   "source": []
  },
  {
   "cell_type": "markdown",
   "metadata": {},
   "source": [
    "### 2. Lấy tọa độ nhà khách hàng\n",
    "***"
   ]
  },
  {
   "cell_type": "code",
   "execution_count": 6,
   "metadata": {},
   "outputs": [],
   "source": [
    "#Lấy tọa độ của nhà KH\n",
    "get_data =\"\"\"\n",
    "    select shop_name,province,pawnid,\n",
    "            customerID,codeno, fromdate, long_lat \n",
    "    from(\n",
    "         select shop_name,province,row_number() over (partition by pawnid order by pawnid asc) row_id,\n",
    "                pawnid,customerID,codeno, fromdate, long_lat \n",
    "         from pawn\n",
    "         left join (select CUSTOMER_WID, long_lat \n",
    "                    from W_PAWN_CUSTOEMR_F\n",
    "                        )cs on cs.CUSTOMER_WID = pawn.CustomerID\n",
    "\n",
    "         left join W_STORE_SERIES_D sd on sd.OPEN_DT = pawn.shopcode\n",
    "         where long_lat is not null\n",
    "         )tab\n",
    "\n",
    "\n",
    "    where row_id = 1\n",
    "    \"\"\"\n",
    "data = pd.read_sql_query(get_data,db)\n"
   ]
  },
  {
   "cell_type": "code",
   "execution_count": 7,
   "metadata": {},
   "outputs": [],
   "source": [
    "data_customer = data"
   ]
  },
  {
   "cell_type": "code",
   "execution_count": 8,
   "metadata": {},
   "outputs": [],
   "source": [
    "new = data_customer[\"long_lat\"].str.split(\",\", n=1, expand=True)"
   ]
  },
  {
   "cell_type": "code",
   "execution_count": 9,
   "metadata": {},
   "outputs": [],
   "source": [
    "new.columns = ['latitude_cus','longitude_cus']"
   ]
  },
  {
   "cell_type": "code",
   "execution_count": 10,
   "metadata": {},
   "outputs": [],
   "source": [
    "data_customer = pd.concat([data_customer,new], axis=1)"
   ]
  },
  {
   "cell_type": "code",
   "execution_count": 11,
   "metadata": {},
   "outputs": [
    {
     "data": {
      "text/plain": [
       "Index(['shop_name', 'province', 'pawnid', 'customerid', 'codeno', 'fromdate',\n",
       "       'long_lat', 'latitude_cus', 'longitude_cus'],\n",
       "      dtype='object')"
      ]
     },
     "execution_count": 11,
     "metadata": {},
     "output_type": "execute_result"
    }
   ],
   "source": [
    "data_customer.columns"
   ]
  },
  {
   "cell_type": "code",
   "execution_count": 12,
   "metadata": {},
   "outputs": [],
   "source": [
    "def get_numeric(x):\n",
    "    try:\n",
    "        return pd.to_numeric(x)\n",
    "    except:\n",
    "        return None"
   ]
  },
  {
   "cell_type": "code",
   "execution_count": 13,
   "metadata": {},
   "outputs": [],
   "source": [
    "data_customer['latitude_cus'] = data_customer['latitude_cus'].apply(get_numeric)\n",
    "data_customer['longitude_cus'] = data_customer['longitude_cus'].apply(get_numeric)"
   ]
  },
  {
   "cell_type": "code",
   "execution_count": 14,
   "metadata": {},
   "outputs": [],
   "source": [
    "data_customer2 = data_customer.dropna(subset=['latitude_cus'])"
   ]
  },
  {
   "cell_type": "code",
   "execution_count": 15,
   "metadata": {},
   "outputs": [],
   "source": [
    "data_customer2 = data_customer2.dropna(subset=['longitude_cus'])"
   ]
  },
  {
   "cell_type": "code",
   "execution_count": 16,
   "metadata": {},
   "outputs": [
    {
     "data": {
      "text/plain": [
       "shop_name        1677\n",
       "province         1677\n",
       "pawnid              0\n",
       "customerid          0\n",
       "codeno              0\n",
       "fromdate            0\n",
       "long_lat            0\n",
       "latitude_cus        0\n",
       "longitude_cus       0\n",
       "dtype: int64"
      ]
     },
     "execution_count": 16,
     "metadata": {},
     "output_type": "execute_result"
    }
   ],
   "source": [
    "data_customer2.isna().sum()"
   ]
  },
  {
   "cell_type": "code",
   "execution_count": null,
   "metadata": {},
   "outputs": [],
   "source": []
  },
  {
   "cell_type": "code",
   "execution_count": null,
   "metadata": {},
   "outputs": [],
   "source": []
  },
  {
   "cell_type": "code",
   "execution_count": null,
   "metadata": {},
   "outputs": [],
   "source": []
  },
  {
   "cell_type": "markdown",
   "metadata": {},
   "source": [
    "### 3. Merge 2 bảng nhà KH - định vị chip\n",
    "***"
   ]
  },
  {
   "cell_type": "code",
   "execution_count": 98,
   "metadata": {},
   "outputs": [],
   "source": [
    "data_chip = pd.merge(df3, data_customer2,on='pawnid', how='left')"
   ]
  },
  {
   "cell_type": "code",
   "execution_count": 99,
   "metadata": {},
   "outputs": [
    {
     "data": {
      "text/plain": [
       "Index(['Imei', 'pawnid', 'open_time', 'event_log', 'longitude', 'latitude',\n",
       "       'get_time', 'shop_name', 'province', 'customerid', 'codeno', 'fromdate',\n",
       "       'long_lat', 'latitude_cus', 'longitude_cus'],\n",
       "      dtype='object')"
      ]
     },
     "execution_count": 99,
     "metadata": {},
     "output_type": "execute_result"
    }
   ],
   "source": [
    "data_chip.columns\n"
   ]
  },
  {
   "cell_type": "markdown",
   "metadata": {},
   "source": [
    "### 4. Tính khoảng cách từ vị trí\n",
    "***"
   ]
  },
  {
   "cell_type": "code",
   "execution_count": null,
   "metadata": {},
   "outputs": [],
   "source": []
  },
  {
   "cell_type": "code",
   "execution_count": 100,
   "metadata": {},
   "outputs": [],
   "source": [
    "fn = lambda x: radians(x)"
   ]
  },
  {
   "cell_type": "code",
   "execution_count": 101,
   "metadata": {},
   "outputs": [],
   "source": [
    "data_chip['long_rad'] = data_chip['longitude'].apply(fn)\n",
    "data_chip['lat_rad'] = data_chip['latitude'].apply(fn)\n",
    "\n",
    "data_chip['long_rad_cs'] = data_chip['longitude_cus'].apply(fn)\n",
    "data_chip['lat_rad_cs'] = data_chip['latitude_cus'].apply(fn)"
   ]
  },
  {
   "cell_type": "code",
   "execution_count": 102,
   "metadata": {},
   "outputs": [
    {
     "data": {
      "text/plain": [
       "Index(['Imei', 'pawnid', 'open_time', 'event_log', 'longitude', 'latitude',\n",
       "       'get_time', 'shop_name', 'province', 'customerid', 'codeno', 'fromdate',\n",
       "       'long_lat', 'latitude_cus', 'longitude_cus', 'long_rad', 'lat_rad',\n",
       "       'long_rad_cs', 'lat_rad_cs'],\n",
       "      dtype='object')"
      ]
     },
     "execution_count": 102,
     "metadata": {},
     "output_type": "execute_result"
    }
   ],
   "source": [
    "data_chip.columns"
   ]
  },
  {
   "cell_type": "code",
   "execution_count": 103,
   "metadata": {},
   "outputs": [],
   "source": [
    "def get_distance(lat_cus,long_cus,lat_chip,long_chip):\n",
    "    R = 6373.0\n",
    "    dlon = long_chip - long_cus\n",
    "    dlat = lat_chip - lat_cus\n",
    "\n",
    "    a = sin(dlat / 2)**2 + cos(lat_cus) * cos(lat_chip) * sin(dlon / 2)**2\n",
    "    c = 2 * atan2(sqrt(a), sqrt(1 - a))\n",
    "\n",
    "    distance = R * c\n",
    "    return distance"
   ]
  },
  {
   "cell_type": "code",
   "execution_count": 104,
   "metadata": {},
   "outputs": [],
   "source": [
    "# define a function for the new column\n",
    "fn = lambda row:get_distance(row.lat_rad_cs,row.long_rad_cs,row.lat_rad,row.long_rad)"
   ]
  },
  {
   "cell_type": "code",
   "execution_count": 105,
   "metadata": {},
   "outputs": [],
   "source": [
    "# get column data with an index\n",
    "col = data_chip.apply(fn,axis=1)"
   ]
  },
  {
   "cell_type": "code",
   "execution_count": 106,
   "metadata": {
    "scrolled": true
   },
   "outputs": [],
   "source": [
    "# assign values to column 'distance_km'\n",
    "data_chip = data_chip.assign(distance_km = col.values)"
   ]
  },
  {
   "cell_type": "code",
   "execution_count": null,
   "metadata": {},
   "outputs": [],
   "source": []
  },
  {
   "cell_type": "markdown",
   "metadata": {},
   "source": [
    "### 5. Thống kê số lần xe đi vào bán kính\n",
    "***"
   ]
  },
  {
   "cell_type": "code",
   "execution_count": 107,
   "metadata": {},
   "outputs": [],
   "source": [
    "# tách riêng ngày - giờ \n",
    "split_time = data_chip['get_time'].str.split(\" \", n=1, expand=True)\n",
    "split_time.columns = ['date_ym_log','time_log']\n",
    "data_chip = pd.concat([data_chip,split_time], axis=1)"
   ]
  },
  {
   "cell_type": "markdown",
   "metadata": {},
   "source": [
    "##### Đặt điều kiện trong bán kính nhà khách hàng"
   ]
  },
  {
   "cell_type": "code",
   "execution_count": 108,
   "metadata": {},
   "outputs": [],
   "source": [
    "def condition(row):\n",
    "    if row['distance_km'] > 2:\n",
    "        return 0\n",
    "    else:\n",
    "        return 1"
   ]
  },
  {
   "cell_type": "code",
   "execution_count": 109,
   "metadata": {},
   "outputs": [],
   "source": [
    "data_chip['>2km'] = data_chip.apply(lambda row: condition(row), axis=1)"
   ]
  },
  {
   "cell_type": "code",
   "execution_count": 110,
   "metadata": {},
   "outputs": [],
   "source": [
    "date_val = pd.to_datetime(data_chip['get_time']).dt.date"
   ]
  },
  {
   "cell_type": "code",
   "execution_count": 111,
   "metadata": {},
   "outputs": [],
   "source": [
    "data_chip = data_chip.assign(date_log = date_val.values)"
   ]
  },
  {
   "cell_type": "code",
   "execution_count": 112,
   "metadata": {
    "scrolled": false
   },
   "outputs": [
    {
     "data": {
      "text/plain": [
       "Index(['Imei', 'pawnid', 'open_time', 'event_log', 'longitude', 'latitude',\n",
       "       'get_time', 'shop_name', 'province', 'customerid', 'codeno', 'fromdate',\n",
       "       'long_lat', 'latitude_cus', 'longitude_cus', 'long_rad', 'lat_rad',\n",
       "       'long_rad_cs', 'lat_rad_cs', 'distance_km', 'date_ym_log', 'time_log',\n",
       "       '>2km', 'date_log'],\n",
       "      dtype='object')"
      ]
     },
     "execution_count": 112,
     "metadata": {},
     "output_type": "execute_result"
    }
   ],
   "source": [
    "data_chip.columns"
   ]
  },
  {
   "cell_type": "code",
   "execution_count": 113,
   "metadata": {},
   "outputs": [],
   "source": [
    "data_chip2 = data_chip[['Imei', 'pawnid', 'open_time', 'event_log', 'province',\n",
    "                        'long_lat', 'date_log','time_log']]"
   ]
  },
  {
   "cell_type": "code",
   "execution_count": null,
   "metadata": {},
   "outputs": [],
   "source": [
    "duplicate_row = data_chip2[data_chip2.duplicated(keep=False)]"
   ]
  },
  {
   "cell_type": "code",
   "execution_count": null,
   "metadata": {},
   "outputs": [],
   "source": [
    "duplicate_row"
   ]
  },
  {
   "cell_type": "code",
   "execution_count": null,
   "metadata": {},
   "outputs": [],
   "source": [
    "duplicate_row.to_excel(r'C:\\Users\\Admin\\Desktop\\Project_chip\\Data_ tính rule\\duplicate_0206.xlsx')"
   ]
  },
  {
   "cell_type": "code",
   "execution_count": null,
   "metadata": {},
   "outputs": [],
   "source": []
  },
  {
   "cell_type": "code",
   "execution_count": null,
   "metadata": {},
   "outputs": [],
   "source": []
  },
  {
   "cell_type": "code",
   "execution_count": null,
   "metadata": {},
   "outputs": [],
   "source": []
  },
  {
   "cell_type": "code",
   "execution_count": null,
   "metadata": {},
   "outputs": [],
   "source": []
  },
  {
   "cell_type": "code",
   "execution_count": null,
   "metadata": {},
   "outputs": [],
   "source": []
  },
  {
   "cell_type": "markdown",
   "metadata": {},
   "source": [
    "##### Nhóm tín hiệu chip theo ngày - giờ log. Lấy theo đơn vị giờ trong ngày/ 1 ngày = 24 lần"
   ]
  },
  {
   "cell_type": "code",
   "execution_count": 115,
   "metadata": {},
   "outputs": [],
   "source": [
    "# Chỉ lấy giờ log của con chip\n",
    "data_chip['date_hour_group'] = data_chip['date_ym_log'] + \"-\" + data_chip['time_log'].apply(lambda row: row[:2])\n",
    "data_chip = data_chip.sort_values(by=['pawnid', 'date_log','time_log'], ascending = True)\n",
    "data_chip['row_id'] = data_chip.groupby(['pawnid','date_hour_group']).cumcount()+1\n",
    "\n",
    "# Trong 1 giờ chỉ lấy 1 lần log định vị chip\n",
    "data_chip2 = data_chip[data_chip['row_id'] == 1]"
   ]
  },
  {
   "cell_type": "code",
   "execution_count": 116,
   "metadata": {},
   "outputs": [],
   "source": [
    "warning_data = data_chip2[['pawnid','codeno','Imei','>2km','long_lat','date_log','time_log','fromdate','event_log','province','shop_name']]"
   ]
  },
  {
   "cell_type": "code",
   "execution_count": null,
   "metadata": {},
   "outputs": [],
   "source": []
  },
  {
   "cell_type": "code",
   "execution_count": 117,
   "metadata": {},
   "outputs": [],
   "source": [
    "# Chuyển sang dạng bảng kèm điều kiện\n",
    "df4 = pd.pivot_table(warning_data, values='>2km', index = ['Imei','codeno','pawnid','fromdate','province','shop_name'], columns = 'date_log',aggfunc='sum')"
   ]
  },
  {
   "cell_type": "code",
   "execution_count": 118,
   "metadata": {},
   "outputs": [],
   "source": [
    "df4.fillna(0, inplace=True)"
   ]
  },
  {
   "cell_type": "code",
   "execution_count": 119,
   "metadata": {},
   "outputs": [],
   "source": [
    "start_date = pd.to_datetime('2021-05-01').date()"
   ]
  },
  {
   "cell_type": "code",
   "execution_count": 120,
   "metadata": {},
   "outputs": [],
   "source": [
    "df_result = df4.loc[:,start_date:]"
   ]
  },
  {
   "cell_type": "code",
   "execution_count": 121,
   "metadata": {},
   "outputs": [],
   "source": [
    "df_result.reset_index(level=['Imei','codeno','pawnid','fromdate','province','shop_name'], inplace=True)"
   ]
  },
  {
   "cell_type": "code",
   "execution_count": 122,
   "metadata": {
    "scrolled": true
   },
   "outputs": [
    {
     "name": "stdout",
     "output_type": "stream",
     "text": [
      "Đã ghi dữ liệu lên sheet data_03June_2km\n"
     ]
    }
   ],
   "source": [
    "write_data(sheet,'data_03June_2km','data_03June_2km',df_result)"
   ]
  },
  {
   "cell_type": "code",
   "execution_count": null,
   "metadata": {},
   "outputs": [],
   "source": []
  },
  {
   "cell_type": "code",
   "execution_count": null,
   "metadata": {},
   "outputs": [],
   "source": []
  },
  {
   "cell_type": "code",
   "execution_count": null,
   "metadata": {},
   "outputs": [],
   "source": []
  }
 ],
 "metadata": {
  "kernelspec": {
   "display_name": "Python 3",
   "language": "python",
   "name": "python3"
  },
  "language_info": {
   "codemirror_mode": {
    "name": "ipython",
    "version": 3
   },
   "file_extension": ".py",
   "mimetype": "text/x-python",
   "name": "python",
   "nbconvert_exporter": "python",
   "pygments_lexer": "ipython3",
   "version": "3.8.8"
  }
 },
 "nbformat": 4,
 "nbformat_minor": 4
}
